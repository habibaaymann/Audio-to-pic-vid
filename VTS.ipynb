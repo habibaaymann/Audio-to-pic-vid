{
 "cells": [
  {
   "cell_type": "code",
   "execution_count": 97,
   "id": "7daa32ea",
   "metadata": {},
   "outputs": [],
   "source": [
    "import speech_recognition as s_r\n",
    "from gensim.models import Word2Vec,KeyedVectors\n",
    "import pandas as pd\n",
    "import nltk"
   ]
  },
  {
   "cell_type": "code",
   "execution_count": 98,
   "id": "8685b449",
   "metadata": {},
   "outputs": [
    {
     "data": {
      "text/plain": [
       "[('facebook', 0.948005199432373),\n",
       " ('tweet', 0.9403423070907593),\n",
       " ('fb', 0.9342358708381653),\n",
       " ('instagram', 0.9104824066162109),\n",
       " ('chat', 0.8964964747428894),\n",
       " ('hashtag', 0.8885937333106995),\n",
       " ('tweets', 0.8878158330917358),\n",
       " ('tl', 0.8778461217880249),\n",
       " ('link', 0.8778210878372192),\n",
       " ('internet', 0.8753897547721863)]"
      ]
     },
     "execution_count": 98,
     "metadata": {},
     "output_type": "execute_result"
    }
   ],
   "source": [
    "import gensim.downloader\n",
    "# Show all available models in gensim-data\n",
    "# print(list(gensim.downloader.info()['models'].keys()))\n",
    "# ['fasttext-wiki-news-subwords-300',\n",
    "#  'conceptnet-numberbatch-17-06-300',\n",
    "#  'word2vec-ruscorpora-300',\n",
    "#  'word2vec-google-news-300',\n",
    "#  'glove-wiki-gigaword-50',\n",
    "#  'glove-wiki-gigaword-100',\n",
    "#  'glove-wiki-gigaword-200',\n",
    "#  'glove-wiki-gigaword-300',\n",
    "#  'glove-twitter-25',\n",
    "#  'glove-twitter-50',\n",
    "#  'glove-twitter-100',\n",
    "#  'glove-twitter-200',\n",
    "#  '__testing_word2vec-matrix-synopsis']\n",
    "\n",
    "# Download the \"glove-twitter-25\" embeddings\n",
    "glove_vectors = gensim.downloader.load('glove-twitter-25')\n",
    "\n",
    "# Use the downloaded vectors as usual:\n",
    "glove_vectors.most_similar('twitter')\n",
    "[('facebook', 0.948005199432373),\n",
    " ('tweet', 0.9403423070907593),\n",
    " ('fb', 0.9342358708381653),\n",
    " ('instagram', 0.9104824066162109),\n",
    " ('chat', 0.8964964747428894),\n",
    " ('hashtag', 0.8885937333106995),\n",
    " ('tweets', 0.8878158330917358),\n",
    " ('tl', 0.8778461217880249),\n",
    " ('link', 0.8778210878372192),\n",
    " ('internet', 0.8753897547721863)]"
   ]
  },
  {
   "cell_type": "code",
   "execution_count": 99,
   "id": "58d05a19",
   "metadata": {},
   "outputs": [],
   "source": [
    "import os\n",
    "import numpy as np\n",
    "from PIL import Image\n",
    "import matplotlib.pyplot as plt \n",
    "import matplotlib.image as mpimg\n",
    "from sklearn.model_selection import train_test_split\n",
    "import cv2\n",
    "import glob\n",
    "import tensorflow as tf"
   ]
  },
  {
   "cell_type": "code",
   "execution_count": 100,
   "id": "fa31dbc3",
   "metadata": {},
   "outputs": [
    {
     "name": "stdout",
     "output_type": "stream",
     "text": [
      "['.ipynb_checkpoints', 'afternoon.webp', 'all.webp', 'annually.webp', 'any.webp', 'anyone.webp', 'anything.webp', 'april.webp', 'black ice.webp', 'blizzard.webp', 'breezy.webp', 'brisk.webp', 'clear skies.webp', 'cloudy.webp', 'cold.webp', 'cool.webp', 'dawn.webp', 'day.webp', 'december.webp', 'degrees.webp', 'dry.webp', 'dusk.webp', 'dust storm.webp', 'each.webp', 'early.webp', 'either.webp', 'else.webp', 'evening.webp', 'every friday.webp', 'every monday.webp', 'every thursday.webp', 'every tuesday.webp', 'every two months.webp', 'every two weeks.webp', 'every two years.webp', 'every wednesday.webp', 'every week.webp', 'everyday.webp', 'everyone.webp', 'everything.webp', 'february.webp', 'few.webp', 'friday.webp', 'hail.webp', 'he.webp', 'heat wave.webp', 'heavy rain.webp', 'her.webp', 'herself.webp', 'him.webp', 'himself.webp', 'hot.webp', 'hour.webp', 'humid.webp', 'i.webp', 'ice.webp', 'it.webp', 'itself.webp', 'january.webp', 'july.webp', 'late night.webp', 'late.webp', 'lightning.webp', 'many.webp', 'march.webp', 'me.webp', 'midnight.webp', 'monday.webp', 'monthly.webp', 'morning dew.webp', 'morning.webp', 'my.webp', 'myself.webp', 'next week.webp', 'night.webp', 'none.webp', 'noon.webp', 'nothing.webp', 'november.webp', 'our.webp', 'ourselves.webp', 'pouring rain.webp', 'rainbow.webp', 'scattered rain.webp', 'scattered snow.webp', 'second.webp', 'sleep.webp', 'slippery walking.webp', 'slippery.webp', 'smog.webp', 'snow.webp', 'some.webp', 'somebody.webp', 'someone.webp', 'something.webp', 'soon.webp', 'spring.webp', 'summer.webp', 'sun.webp', 'sunday.webp', 'sunrise.webp', 'sunset.webp', 'temperature.webp', 'their.webp', 'them.webp', 'thunder.webp', 'thursday.webp', 'time.webp', 'today.webp', 'tuesday.webp', 'us.webp', 'we.webp', 'weather.webp', 'wednesday.webp', 'weekend.webp', 'what.webp', 'which.webp', 'who.webp', 'windy.webp', 'wintering.webp', 'yourself.webp']\n"
     ]
    }
   ],
   "source": [
    "file_names = os.listdir('../try2/filtered_data')\n",
    "print(file_names)"
   ]
  },
  {
   "cell_type": "code",
   "execution_count": 101,
   "id": "9f0dc0d0",
   "metadata": {},
   "outputs": [
    {
     "name": "stdout",
     "output_type": "stream",
     "text": [
      "\n",
      "afternoon\n",
      "all\n",
      "annually\n",
      "any\n",
      "anyone\n",
      "anything\n",
      "april\n",
      "black ice\n",
      "blizzard\n",
      "breezy\n",
      "brisk\n",
      "clear skies\n",
      "cloudy\n",
      "cold\n",
      "cool\n",
      "dawn\n",
      "day\n",
      "december\n",
      "degrees\n",
      "dry\n",
      "dusk\n",
      "dust storm\n",
      "each\n",
      "early\n",
      "either\n",
      "else\n",
      "evening\n",
      "every friday\n",
      "every monday\n",
      "every thursday\n",
      "every tuesday\n",
      "every two months\n",
      "every two weeks\n",
      "every two years\n",
      "every wednesday\n",
      "every week\n",
      "everyday\n",
      "everyone\n",
      "everything\n",
      "february\n",
      "few\n",
      "friday\n",
      "hail\n",
      "he\n",
      "heat wave\n",
      "heavy rain\n",
      "her\n",
      "herself\n",
      "him\n",
      "himself\n",
      "hot\n",
      "hour\n",
      "humid\n",
      "i\n",
      "ice\n",
      "it\n",
      "itself\n",
      "january\n",
      "july\n",
      "late night\n",
      "late\n",
      "lightning\n",
      "many\n",
      "march\n",
      "me\n",
      "midnight\n",
      "monday\n",
      "monthly\n",
      "morning dew\n",
      "morning\n",
      "my\n",
      "myself\n",
      "next week\n",
      "night\n",
      "none\n",
      "noon\n",
      "nothing\n",
      "november\n",
      "our\n",
      "ourselves\n",
      "pouring rain\n",
      "rainbow\n",
      "scattered rain\n",
      "scattered snow\n",
      "second\n",
      "sleep\n",
      "slippery walking\n",
      "slippery\n",
      "smog\n",
      "snow\n",
      "some\n",
      "somebody\n",
      "someone\n",
      "something\n",
      "soon\n",
      "spring\n",
      "summer\n",
      "sun\n",
      "sunday\n",
      "sunrise\n",
      "sunset\n",
      "temperature\n",
      "their\n",
      "them\n",
      "thunder\n",
      "thursday\n",
      "time\n",
      "today\n",
      "tuesday\n",
      "us\n",
      "we\n",
      "weather\n",
      "wednesday\n",
      "weekend\n",
      "what\n",
      "which\n",
      "who\n",
      "windy\n",
      "wintering\n",
      "yourself\n",
      "['', 'afternoon', 'all', 'annually', 'any', 'anyone', 'anything', 'april', 'black ice', 'blizzard', 'breezy', 'brisk', 'clear skies', 'cloudy', 'cold', 'cool', 'dawn', 'day', 'december', 'degrees', 'dry', 'dusk', 'dust storm', 'each', 'early', 'either', 'else', 'evening', 'every friday', 'every monday', 'every thursday', 'every tuesday', 'every two months', 'every two weeks', 'every two years', 'every wednesday', 'every week', 'everyday', 'everyone', 'everything', 'february', 'few', 'friday', 'hail', 'he', 'heat wave', 'heavy rain', 'her', 'herself', 'him', 'himself', 'hot', 'hour', 'humid', 'i', 'ice', 'it', 'itself', 'january', 'july', 'late night', 'late', 'lightning', 'many', 'march', 'me', 'midnight', 'monday', 'monthly', 'morning dew', 'morning', 'my', 'myself', 'next week', 'night', 'none', 'noon', 'nothing', 'november', 'our', 'ourselves', 'pouring rain', 'rainbow', 'scattered rain', 'scattered snow', 'second', 'sleep', 'slippery walking', 'slippery', 'smog', 'snow', 'some', 'somebody', 'someone', 'something', 'soon', 'spring', 'summer', 'sun', 'sunday', 'sunrise', 'sunset', 'temperature', 'their', 'them', 'thunder', 'thursday', 'time', 'today', 'tuesday', 'us', 'we', 'weather', 'wednesday', 'weekend', 'what', 'which', 'who', 'windy', 'wintering', 'yourself']\n"
     ]
    }
   ],
   "source": [
    "new_list = []\n",
    "\n",
    "for word in file_names :\n",
    "    new_list.append(word.split('.')[0])\n",
    "    \n",
    "    result = word.split('.')[0]\n",
    "    print(result)\n",
    "    \n",
    "    \n",
    "print(new_list)"
   ]
  },
  {
   "cell_type": "code",
   "execution_count": 102,
   "id": "12189340",
   "metadata": {},
   "outputs": [
    {
     "name": "stdout",
     "output_type": "stream",
     "text": [
      "['', 'afternoon', 'all', 'annually', 'any', 'anyone', 'anything', 'april', 'blizzard', 'breezy', 'brisk', 'cloudy', 'cold', 'cool', 'dawn', 'day', 'december', 'degrees', 'dry', 'dusk', 'each', 'early', 'either', 'else', 'evening', 'everyday', 'everyone', 'everything', 'february', 'few', 'friday', 'hail', 'he', 'her', 'herself', 'him', 'himself', 'hot', 'hour', 'humid', 'i', 'ice', 'it', 'itself', 'january', 'july', 'late', 'lightning', 'many', 'march', 'me', 'midnight', 'monday', 'monthly', 'morning', 'my', 'myself', 'night', 'none', 'noon', 'nothing', 'november', 'our', 'ourselves', 'rainbow', 'second', 'sleep', 'slippery', 'smog', 'snow', 'some', 'somebody', 'someone', 'something', 'soon', 'spring', 'summer', 'sun', 'sunday', 'sunrise', 'sunset', 'temperature', 'their', 'them', 'thunder', 'thursday', 'time', 'today', 'tuesday', 'us', 'we', 'weather', 'wednesday', 'weekend', 'what', 'which', 'who', 'windy', 'wintering', 'yourself']\n"
     ]
    }
   ],
   "source": [
    "clean_list=[word for word in new_list if len(word.split())<2]\n",
    "print(clean_list)"
   ]
  },
  {
   "cell_type": "code",
   "execution_count": 103,
   "id": "2307e399",
   "metadata": {},
   "outputs": [],
   "source": [
    "my_mic=s_r.Microphone()\n",
    "r = s_r.Recognizer()"
   ]
  },
  {
   "cell_type": "code",
   "execution_count": 112,
   "id": "a591b3f6",
   "metadata": {},
   "outputs": [
    {
     "name": "stdout",
     "output_type": "stream",
     "text": [
      "say now\n",
      "result2:\n",
      "{   'alternative': [   {   'confidence': 0.94608146,\n",
      "                           'transcript': 'go to school by bus'},\n",
      "                       {'transcript': 'to school by bus'},\n",
      "                       {'transcript': 'hey Google to school by bus'},\n",
      "                       {'transcript': 'Google to school by bus'},\n",
      "                       {'transcript': 'how to school by bus'}],\n",
      "    'final': True}\n",
      "go to school by bus\n"
     ]
    }
   ],
   "source": [
    "with my_mic as source:\n",
    "    print(\"say now\")\n",
    "    r.adjust_for_ambient_noise(source)\n",
    "    audio=r.record(source,duration=5)\n",
    "sentence=r.recognize_google(audio, language = 'en-US')\n",
    "print(sentence)\n"
   ]
  },
  {
   "cell_type": "code",
   "execution_count": 110,
   "id": "8bf3a902",
   "metadata": {},
   "outputs": [
    {
     "data": {
      "text/plain": [
       "'call outside'"
      ]
     },
     "execution_count": 110,
     "metadata": {},
     "output_type": "execute_result"
    }
   ],
   "source": [
    "sentence"
   ]
  },
  {
   "cell_type": "code",
   "execution_count": 111,
   "id": "ad422cd4",
   "metadata": {},
   "outputs": [],
   "source": [
    "words=[]\n",
    "for word in sentence.split():\n",
    "    most_similar_word=\"\"\n",
    "    max_similarity_score=-1\n",
    "    for listword in clean_list:\n",
    "        try:\n",
    "            similarity=glove_vectors.similarity(word,listword)\n",
    "        \n",
    "        except:\n",
    "            pass\n",
    "        \n",
    "    if similarity>max_similarity_score:\n",
    "            most_similar_word=listword\n",
    "            max_similarity_score=similarity\n",
    "    words.append(most_similar_word)\n",
    "\n",
    "\n",
    "                \n",
    "            \n",
    "            \n",
    "            \n",
    "    \n",
    "    "
   ]
  },
  {
   "cell_type": "code",
   "execution_count": 107,
   "id": "d9dda830",
   "metadata": {},
   "outputs": [
    {
     "name": "stdout",
     "output_type": "stream",
     "text": [
      "['afternoon.webp']\n"
     ]
    }
   ],
   "source": [
    "words=[word+\".webp\" for word in words]\n",
    "print(words)"
   ]
  },
  {
   "cell_type": "code",
   "execution_count": null,
   "id": "d2457279",
   "metadata": {},
   "outputs": [],
   "source": []
  }
 ],
 "metadata": {
  "kernelspec": {
   "display_name": "Python 3 (ipykernel)",
   "language": "python",
   "name": "python3"
  },
  "language_info": {
   "codemirror_mode": {
    "name": "ipython",
    "version": 3
   },
   "file_extension": ".py",
   "mimetype": "text/x-python",
   "name": "python",
   "nbconvert_exporter": "python",
   "pygments_lexer": "ipython3",
   "version": "3.9.12"
  }
 },
 "nbformat": 4,
 "nbformat_minor": 5
}
